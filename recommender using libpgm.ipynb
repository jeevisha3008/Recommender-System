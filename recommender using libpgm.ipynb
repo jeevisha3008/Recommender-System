{
 "cells": [
  {
   "cell_type": "code",
   "execution_count": 1,
   "metadata": {},
   "outputs": [],
   "source": [
    "import json\n",
    "import scipy as sp\n",
    "import numpy as np\n",
    "import pandas as pd\n",
    "import sys\n",
    "import string\n",
    "#from pgmpy.inference import VariableElimination\n",
    "#from pgmpy.models import BayesianModel\n",
    "from libpgm.nodedata import NodeData\n",
    "from libpgm.graphskeleton import GraphSkeleton\n",
    "from libpgm.discretebayesiannetwork import DiscreteBayesianNetwork\n",
    "from libpgm.lgbayesiannetwork import LGBayesianNetwork\n",
    "from libpgm.hybayesiannetwork import HyBayesianNetwork\n",
    "from libpgm.dyndiscbayesiannetwork import DynDiscBayesianNetwork\n",
    "from libpgm.tablecpdfactorization import TableCPDFactorization\n",
    "from libpgm.sampleaggregator import SampleAggregator\n",
    "from libpgm.pgmlearner import PGMLearner"
   ]
  },
  {
   "cell_type": "code",
   "execution_count": 2,
   "metadata": {},
   "outputs": [],
   "source": [
    "df = pd.read_csv(\"../data/data.csv\")"
   ]
  },
  {
   "cell_type": "code",
   "execution_count": 3,
   "metadata": {},
   "outputs": [
    {
     "data": {
      "text/html": [
       "<div>\n",
       "<style scoped>\n",
       "    .dataframe tbody tr th:only-of-type {\n",
       "        vertical-align: middle;\n",
       "    }\n",
       "\n",
       "    .dataframe tbody tr th {\n",
       "        vertical-align: top;\n",
       "    }\n",
       "\n",
       "    .dataframe thead th {\n",
       "        text-align: right;\n",
       "    }\n",
       "</style>\n",
       "<table border=\"1\" class=\"dataframe\">\n",
       "  <thead>\n",
       "    <tr style=\"text-align: right;\">\n",
       "      <th></th>\n",
       "      <th>user_id</th>\n",
       "      <th>movie_title</th>\n",
       "      <th>rating</th>\n",
       "      <th>genre</th>\n",
       "      <th>release_date</th>\n",
       "      <th>age</th>\n",
       "      <th>gender</th>\n",
       "      <th>occupation</th>\n",
       "    </tr>\n",
       "  </thead>\n",
       "  <tbody>\n",
       "    <tr>\n",
       "      <th>0</th>\n",
       "      <td>100</td>\n",
       "      <td>Air Force One (1997)</td>\n",
       "      <td>4</td>\n",
       "      <td>multiple</td>\n",
       "      <td>01-01-1997</td>\n",
       "      <td>36</td>\n",
       "      <td>M</td>\n",
       "      <td>executive</td>\n",
       "    </tr>\n",
       "    <tr>\n",
       "      <th>1</th>\n",
       "      <td>100</td>\n",
       "      <td>Amistad (1997)</td>\n",
       "      <td>4</td>\n",
       "      <td>Drama</td>\n",
       "      <td>18-12-1997</td>\n",
       "      <td>36</td>\n",
       "      <td>M</td>\n",
       "      <td>executive</td>\n",
       "    </tr>\n",
       "    <tr>\n",
       "      <th>2</th>\n",
       "      <td>100</td>\n",
       "      <td>Anna Karenina (1997)</td>\n",
       "      <td>3</td>\n",
       "      <td>multiple</td>\n",
       "      <td>04-04-1997</td>\n",
       "      <td>36</td>\n",
       "      <td>M</td>\n",
       "      <td>executive</td>\n",
       "    </tr>\n",
       "    <tr>\n",
       "      <th>3</th>\n",
       "      <td>100</td>\n",
       "      <td>Apostle, The (1997)</td>\n",
       "      <td>4</td>\n",
       "      <td>Drama</td>\n",
       "      <td>18-12-1997</td>\n",
       "      <td>36</td>\n",
       "      <td>M</td>\n",
       "      <td>executive</td>\n",
       "    </tr>\n",
       "    <tr>\n",
       "      <th>4</th>\n",
       "      <td>100</td>\n",
       "      <td>Apt Pupil (1998)</td>\n",
       "      <td>5</td>\n",
       "      <td>multiple</td>\n",
       "      <td>23-10-1998</td>\n",
       "      <td>36</td>\n",
       "      <td>M</td>\n",
       "      <td>executive</td>\n",
       "    </tr>\n",
       "  </tbody>\n",
       "</table>\n",
       "</div>"
      ],
      "text/plain": [
       "   user_id           movie_title  rating     genre release_date  age gender  \\\n",
       "0      100  Air Force One (1997)       4  multiple   01-01-1997   36      M   \n",
       "1      100        Amistad (1997)       4     Drama   18-12-1997   36      M   \n",
       "2      100  Anna Karenina (1997)       3  multiple   04-04-1997   36      M   \n",
       "3      100   Apostle, The (1997)       4     Drama   18-12-1997   36      M   \n",
       "4      100      Apt Pupil (1998)       5  multiple   23-10-1998   36      M   \n",
       "\n",
       "  occupation  \n",
       "0  executive  \n",
       "1  executive  \n",
       "2  executive  \n",
       "3  executive  \n",
       "4  executive  "
      ]
     },
     "execution_count": 3,
     "metadata": {},
     "output_type": "execute_result"
    }
   ],
   "source": [
    "df.head()"
   ]
  },
  {
   "cell_type": "code",
   "execution_count": 4,
   "metadata": {},
   "outputs": [
    {
     "data": {
      "text/html": [
       "<div>\n",
       "<style scoped>\n",
       "    .dataframe tbody tr th:only-of-type {\n",
       "        vertical-align: middle;\n",
       "    }\n",
       "\n",
       "    .dataframe tbody tr th {\n",
       "        vertical-align: top;\n",
       "    }\n",
       "\n",
       "    .dataframe thead th {\n",
       "        text-align: right;\n",
       "    }\n",
       "</style>\n",
       "<table border=\"1\" class=\"dataframe\">\n",
       "  <thead>\n",
       "    <tr style=\"text-align: right;\">\n",
       "      <th></th>\n",
       "      <th>user_id</th>\n",
       "      <th>rating</th>\n",
       "      <th>age</th>\n",
       "    </tr>\n",
       "  </thead>\n",
       "  <tbody>\n",
       "    <tr>\n",
       "      <th>count</th>\n",
       "      <td>99739.000000</td>\n",
       "      <td>99739.000000</td>\n",
       "      <td>99739.000000</td>\n",
       "    </tr>\n",
       "    <tr>\n",
       "      <th>mean</th>\n",
       "      <td>462.530284</td>\n",
       "      <td>3.529913</td>\n",
       "      <td>32.971907</td>\n",
       "    </tr>\n",
       "    <tr>\n",
       "      <th>std</th>\n",
       "      <td>266.618279</td>\n",
       "      <td>1.125528</td>\n",
       "      <td>11.560293</td>\n",
       "    </tr>\n",
       "    <tr>\n",
       "      <th>min</th>\n",
       "      <td>1.000000</td>\n",
       "      <td>1.000000</td>\n",
       "      <td>7.000000</td>\n",
       "    </tr>\n",
       "    <tr>\n",
       "      <th>25%</th>\n",
       "      <td>254.000000</td>\n",
       "      <td>3.000000</td>\n",
       "      <td>24.000000</td>\n",
       "    </tr>\n",
       "    <tr>\n",
       "      <th>50%</th>\n",
       "      <td>447.000000</td>\n",
       "      <td>4.000000</td>\n",
       "      <td>30.000000</td>\n",
       "    </tr>\n",
       "    <tr>\n",
       "      <th>75%</th>\n",
       "      <td>682.000000</td>\n",
       "      <td>4.000000</td>\n",
       "      <td>40.000000</td>\n",
       "    </tr>\n",
       "    <tr>\n",
       "      <th>max</th>\n",
       "      <td>943.000000</td>\n",
       "      <td>5.000000</td>\n",
       "      <td>73.000000</td>\n",
       "    </tr>\n",
       "  </tbody>\n",
       "</table>\n",
       "</div>"
      ],
      "text/plain": [
       "            user_id        rating           age\n",
       "count  99739.000000  99739.000000  99739.000000\n",
       "mean     462.530284      3.529913     32.971907\n",
       "std      266.618279      1.125528     11.560293\n",
       "min        1.000000      1.000000      7.000000\n",
       "25%      254.000000      3.000000     24.000000\n",
       "50%      447.000000      4.000000     30.000000\n",
       "75%      682.000000      4.000000     40.000000\n",
       "max      943.000000      5.000000     73.000000"
      ]
     },
     "execution_count": 4,
     "metadata": {},
     "output_type": "execute_result"
    }
   ],
   "source": [
    "df.describe()"
   ]
  },
  {
   "cell_type": "code",
   "execution_count": 5,
   "metadata": {},
   "outputs": [
    {
     "data": {
      "text/html": [
       "<div>\n",
       "<style scoped>\n",
       "    .dataframe tbody tr th:only-of-type {\n",
       "        vertical-align: middle;\n",
       "    }\n",
       "\n",
       "    .dataframe tbody tr th {\n",
       "        vertical-align: top;\n",
       "    }\n",
       "\n",
       "    .dataframe thead th {\n",
       "        text-align: right;\n",
       "    }\n",
       "</style>\n",
       "<table border=\"1\" class=\"dataframe\">\n",
       "  <thead>\n",
       "    <tr style=\"text-align: right;\">\n",
       "      <th></th>\n",
       "      <th>user_id</th>\n",
       "      <th>rating</th>\n",
       "      <th>age</th>\n",
       "    </tr>\n",
       "  </thead>\n",
       "  <tbody>\n",
       "    <tr>\n",
       "      <th>user_id</th>\n",
       "      <td>1.000000</td>\n",
       "      <td>-0.009166</td>\n",
       "      <td>-0.073599</td>\n",
       "    </tr>\n",
       "    <tr>\n",
       "      <th>rating</th>\n",
       "      <td>-0.009166</td>\n",
       "      <td>1.000000</td>\n",
       "      <td>0.054570</td>\n",
       "    </tr>\n",
       "    <tr>\n",
       "      <th>age</th>\n",
       "      <td>-0.073599</td>\n",
       "      <td>0.054570</td>\n",
       "      <td>1.000000</td>\n",
       "    </tr>\n",
       "  </tbody>\n",
       "</table>\n",
       "</div>"
      ],
      "text/plain": [
       "          user_id    rating       age\n",
       "user_id  1.000000 -0.009166 -0.073599\n",
       "rating  -0.009166  1.000000  0.054570\n",
       "age     -0.073599  0.054570  1.000000"
      ]
     },
     "execution_count": 5,
     "metadata": {},
     "output_type": "execute_result"
    }
   ],
   "source": [
    "df.corr()"
   ]
  },
  {
   "cell_type": "code",
   "execution_count": 6,
   "metadata": {},
   "outputs": [
    {
     "data": {
      "text/plain": [
       "(99739, 8)"
      ]
     },
     "execution_count": 6,
     "metadata": {},
     "output_type": "execute_result"
    }
   ],
   "source": [
    "df.shape"
   ]
  },
  {
   "cell_type": "code",
   "execution_count": 7,
   "metadata": {},
   "outputs": [
    {
     "data": {
      "text/plain": [
       "4    34079\n",
       "3    27084\n",
       "5    21146\n",
       "2    11342\n",
       "1     6088\n",
       "Name: rating, dtype: int64"
      ]
     },
     "execution_count": 7,
     "metadata": {},
     "output_type": "execute_result"
    }
   ],
   "source": [
    "df['rating'].value_counts()"
   ]
  },
  {
   "cell_type": "code",
   "execution_count": 12,
   "metadata": {},
   "outputs": [],
   "source": [
    "text = open(\"../data/unifiedMLData2.json\")\n",
    "data=text.read()"
   ]
  },
  {
   "cell_type": "code",
   "execution_count": 13,
   "metadata": {},
   "outputs": [
    {
     "data": {
      "text/plain": [
       "'[\\n  {\\n    \"user_id\":100,\\n    \"movie_title\":\"Air Force One (1997)\",\\n    \"rating\":4,\\n    \"genre\":\"mult'"
      ]
     },
     "execution_count": 13,
     "metadata": {},
     "output_type": "execute_result"
    }
   ],
   "source": [
    "data[0:100]"
   ]
  },
  {
   "cell_type": "code",
   "execution_count": 14,
   "metadata": {},
   "outputs": [],
   "source": [
    "#data=data[0:1000]"
   ]
  },
  {
   "cell_type": "code",
   "execution_count": 15,
   "metadata": {},
   "outputs": [
    {
     "name": "stdout",
     "output_type": "stream",
     "text": [
      "[{'user_id': 100, 'movie_title': 'Air Force One (1997)', 'rating': 4, 'genre': 'multiple', 'release_date': '1997-01-01', 'age': 36, 'gender': 'M', 'occupation': 'executive'}, {'user_id': 100, 'movie_title': 'Amistad (1997)', 'rating': 4, 'genre': 'Drama', 'release_date': '1997-12-18', 'age': 36, 'gender': 'M', 'occupation': 'executive'}, {'user_id': 100, 'movie_title': 'Anna Karenina (1997)', 'rating': 3, 'genre': 'multiple', 'release_date': '1997-04-04', 'age': 36, 'gender': 'M', 'occupation': 'executive'}, {'user_id': 100, 'movie_title': 'Apostle, The (1997)', 'rating': 4, 'genre': 'Drama', 'release_date': '1997-12-18', 'age': 36, 'gender': 'M', 'occupation': 'executive'}, {'user_id': 100, 'movie_title': 'Apt Pupil (1998)', 'rating': 5, 'genre': 'multiple', 'release_date': '1998-10-23', 'age': 36, 'gender': 'M', 'occupation': 'executive'}]\n"
     ]
    }
   ],
   "source": [
    "listofDicts = json.loads(data)\n",
    "print(listofDicts[0:5])"
   ]
  },
  {
   "cell_type": "code",
   "execution_count": 16,
   "metadata": {
    "scrolled": false
   },
   "outputs": [],
   "source": [
    "skel = GraphSkeleton()\n",
    "skel.load(\"../data/skeleton.json\")\n",
    "#\"V\": [\"user_id\",\"movie_title\", \"rating\", \"genre\", \"release_date\", \"age\", \"gender\", \"occupation\"],\n",
    "#\"E\": [[\"occupation\", \"rating\"],[\"gender\",\"rating\"],[\"age\",\"rating\"],[\"age\",\"occupation\"],[\"gender\",\"occupation\"],[\"genre\",\"movie_title\"],[\"movie_title\",\"rating\"],['user_id','rating']]"
   ]
  },
  {
   "cell_type": "markdown",
   "metadata": {},
   "source": [
    "**GraphSkeleton** - This class represents a graph skeleton, meaning a vertex set and a directed edge set. It contains the attributes V and E, and the methods load, getparents, getchildren, and toporder."
   ]
  },
  {
   "cell_type": "code",
   "execution_count": 17,
   "metadata": {
    "scrolled": true
   },
   "outputs": [
    {
     "name": "stdout",
     "output_type": "stream",
     "text": [
      "None\n"
     ]
    }
   ],
   "source": [
    "print(skel.toporder())"
   ]
  },
  {
   "cell_type": "code",
   "execution_count": 18,
   "metadata": {},
   "outputs": [
    {
     "name": "stdout",
     "output_type": "stream",
     "text": [
      "['occupation', 'gender', 'age', 'movie_title', 'user_id']\n"
     ]
    }
   ],
   "source": [
    "print(skel.getparents('rating'))"
   ]
  },
  {
   "cell_type": "code",
   "execution_count": 19,
   "metadata": {},
   "outputs": [
    {
     "name": "stdout",
     "output_type": "stream",
     "text": [
      "<libpgm.graphskeleton.GraphSkeleton object at 0x000001E6CFF45B70>\n"
     ]
    }
   ],
   "source": [
    "print(skel)"
   ]
  },
  {
   "cell_type": "code",
   "execution_count": 20,
   "metadata": {},
   "outputs": [],
   "source": [
    "occupations = ['administrator',\n",
    "#'artist',\n",
    "#'scientist',\n",
    "'student',\n",
    "'doctor',\n",
    "'educator',\n",
    "'engineer',\n",
    "'entertainment',\n",
    "'executive',\n",
    "'healthcare',\n",
    "'homemaker',\n",
    "'lawyer',\n",
    "'librarian',\n",
    "'marketing',\n",
    "'none',\n",
    "'other',\n",
    "'programmer',\n",
    "'retired',\n",
    "'salesman',\n",
    "'technician',\n",
    "'writer']"
   ]
  },
  {
   "cell_type": "code",
   "execution_count": 21,
   "metadata": {},
   "outputs": [
    {
     "data": {
      "text/plain": [
       "'student'"
      ]
     },
     "execution_count": 21,
     "metadata": {},
     "output_type": "execute_result"
    }
   ],
   "source": [
    "occupations[1]"
   ]
  },
  {
   "cell_type": "markdown",
   "metadata": {},
   "source": [
    "# Creating a Bayesian Network"
   ]
  },
  {
   "cell_type": "code",
   "execution_count": 22,
   "metadata": {},
   "outputs": [],
   "source": [
    "learner = PGMLearner()"
   ]
  },
  {
   "cell_type": "markdown",
   "metadata": {},
   "source": [
    "**PGMLearner** - This module provides tools to generate Bayesian networks that are “learned” from a data set. The learning process involves finding the Bayesian network that most accurately models data given as input – in other words, finding the Bayesian network that makes the data set most likely.\n",
    "\n",
    "There are two major parts of Bayesian network learning: **structure learning and parameter learning**. \n",
    "\n",
    "Structure learning means finding the graph that most accurately depicts the dependencies detected in the data. Parameter learning means adjusting the parameters of the CPDs in a graph skeleton to most accurately model the data. This module has tools for both of these tasks."
   ]
  },
  {
   "cell_type": "markdown",
   "metadata": {},
   "source": [
    "# Maximum Likelihood Estimation - To learn the parameters of the CPDs"
   ]
  },
  {
   "cell_type": "markdown",
   "metadata": {},
   "source": [
    "We instantiated the PGMLearner class. The method discrete_mle_estimateparams already knows the structure of the network. The estimates for each CPD only needs information from the parent, and this decomposition makes it possible to learn the parameters of each CPD."
   ]
  },
  {
   "cell_type": "code",
   "execution_count": 19,
   "metadata": {},
   "outputs": [],
   "source": [
    "result = learner.discrete_mle_estimateparams(skel, listofDicts)"
   ]
  },
  {
   "cell_type": "markdown",
   "metadata": {},
   "source": [
    "**Estimate parameters for a discrete Bayesian network with a structure given by graphskeleton in order to maximize the probability of data given by data** This function normalizes the distribution of a node’s outcomes for each combination of its parents’ outcomes. In doing so it creates an estimated tabular conditional probability distribution for each node. It then instantiates a DiscreteBayesianNetwork instance based on the graphskeleton, and modifies that instance’s Vdata attribute to reflect the estimated CPDs. It then returns the instance."
   ]
  },
  {
   "cell_type": "code",
   "execution_count": 20,
   "metadata": {},
   "outputs": [
    {
     "name": "stderr",
     "output_type": "stream",
     "text": [
      "\n",
      "KeyboardInterrupt\n",
      "\n"
     ]
    }
   ],
   "source": [
    "# output- same as if you would have provided by yourself in NodeData\n",
    "print(json.dumps(result.Vdata,indent=2)[0:200])"
   ]
  },
  {
   "cell_type": "code",
   "execution_count": null,
   "metadata": {},
   "outputs": [],
   "source": [
    "pd.DataFrame(result.Vdata['rating']['cprob']).transpose().head()"
   ]
  },
  {
   "cell_type": "code",
   "execution_count": 24,
   "metadata": {},
   "outputs": [
    {
     "data": {
      "text/plain": [
       "0.004871322671166215"
      ]
     },
     "execution_count": 24,
     "metadata": {},
     "output_type": "execute_result"
    }
   ],
   "source": [
    "myquery = dict(movie_title = ['Air Force One (1997)'])\n",
    "myevidence = dict(user_id=11)\n",
    "result.specificquery(query=myquery,evidence = myevidence)"
   ]
  },
  {
   "cell_type": "markdown",
   "metadata": {},
   "source": [
    "# Gibbs Sampling"
   ]
  },
  {
   "cell_type": "markdown",
   "metadata": {},
   "source": [
    "**Return a sequence of n samples using the Gibbs sampling method, given evidence specified by evidence.** Gibbs sampling is a technique wherein for each sample, each variable in turn is erased and calculated conditioned on the outcomes of its neighbors. This method starts by sampling from the ‘prior distribution,’ which is the distribution not conditioned on evidence, but the samples provably get closer and closer to the posterior distribution, which is the distribution conditioned on the evidence. It is thus a good way to deal with evidence when generating random samples."
   ]
  },
  {
   "cell_type": "code",
   "execution_count": 23,
   "metadata": {},
   "outputs": [
    {
     "name": "stderr",
     "output_type": "stream",
     "text": [
      "\n",
      "KeyboardInterrupt\n",
      "\n"
     ]
    }
   ],
   "source": [
    "text = open(\"../data/unifiedMLData2.json\")\n",
    "data = text.read()\n",
    "listofDicts=json.loads(data)\n",
    "\n",
    "skel = GraphSkeleton()\n",
    "skel.load(\"../data/skeleton.json\")\n",
    "\n",
    "learner = PGMLearner()\n",
    "\n",
    "result = learner.discrete_mle_estimateparams(skel, listofDicts)\n",
    "\n",
    "tcf = TableCPDFactorization(result)\n",
    "\n",
    "myquery = dict(movie_title = ['Air Force One (1997)'])\n",
    "myevidence = dict(user_id=11)\n",
    "res2 = tcf.gibbssample(evidence = myevidence,n = 5)"
   ]
  },
  {
   "cell_type": "code",
   "execution_count": 19,
   "metadata": {},
   "outputs": [
    {
     "name": "stdout",
     "output_type": "stream",
     "text": [
      "[\n",
      "  {\n",
      "    \"user_id\": 10,\n",
      "    \"release_date\": \"1997-01-01\",\n",
      "    \"genre\": \"multiple\",\n",
      "    \"movie_title\": \"Tales from the Hood (1995)\",\n",
      "    \"gender\": \"M\",\n",
      "    \"age\": 19,\n",
      "    \"occupation\": \"student\",\n",
      "    \"rating\": 5\n",
      "  },\n",
      "  {\n",
      "    \"user_id\": 109,\n",
      "    \"release_date\": \"1968-01-01\",\n",
      "    \"genre\": \"multiple\",\n",
      "    \"movie_title\": \"African Queen, The (1951)\",\n",
      "    \"gender\": \"M\",\n",
      "    \"age\": 20,\n",
      "    \"occupation\": \"student\",\n",
      "    \"rating\": 5\n",
      "  },\n",
      "  {\n",
      "    \"user_id\": 116,\n",
      "    \"release_date\": \"1991-01-01\",\n",
      "    \"genre\": \"multiple\",\n",
      "    \"movie_title\": \"Don Juan DeMarco (1995)\",\n",
      "    \"gender\": \"M\",\n",
      "    \"age\": 27,\n",
      "    \"occupation\": \"student\",\n",
      "    \"rating\": 4\n",
      "  },\n",
      "  {\n",
      "    \"user_id\": 110,\n",
      "    \"release_date\": \"1996-03-08\",\n",
      "    \"genre\": \"multiple\",\n",
      "    \"movie_title\": \"Professional, The (1994)\",\n",
      "    \"gender\": \"M\",\n",
      "    \"age\": 20,\n",
      "    \"occupation\": \"student\",\n",
      "    \"rating\": 5\n",
      "  },\n",
      "  {\n",
      "    \"user_id\": 10,\n",
      "    \"release_date\": \"1996-04-26\",\n",
      "    \"genre\": \"multiple\",\n",
      "    \"movie_title\": \"English Patient, The (1996)\",\n",
      "    \"gender\": \"M\",\n",
      "    \"age\": 26,\n",
      "    \"occupation\": \"student\",\n",
      "    \"rating\": 5\n",
      "  }\n",
      "]\n"
     ]
    }
   ],
   "source": [
    "print(json.dumps(res2, indent=2))"
   ]
  },
  {
   "cell_type": "markdown",
   "metadata": {},
   "source": [
    "# Movielens test"
   ]
  },
  {
   "cell_type": "code",
   "execution_count": 238,
   "metadata": {},
   "outputs": [
    {
     "name": "stdout",
     "output_type": "stream",
     "text": [
      "╒════════════════════╤═════════════╕\n",
      "│ genre(Action)      │ 0.008813    │\n",
      "├────────────────────┼─────────────┤\n",
      "│ genre(Adventure)   │ 0.00324848  │\n",
      "├────────────────────┼─────────────┤\n",
      "│ genre(Animation)   │ 0.000721884 │\n",
      "├────────────────────┼─────────────┤\n",
      "│ genre(Childrens)   │ 0.000180471 │\n",
      "├────────────────────┼─────────────┤\n",
      "│ genre(Comedy)      │ 0.0985272   │\n",
      "├────────────────────┼─────────────┤\n",
      "│ genre(Crime)       │ 0.00324848  │\n",
      "├────────────────────┼─────────────┤\n",
      "│ genre(Documentary) │ 0.00648693  │\n",
      "├────────────────────┼─────────────┤\n",
      "│ genre(Drama)       │ 0.132355    │\n",
      "├────────────────────┼─────────────┤\n",
      "│ genre(Fantasy)     │ 1.00262e-05 │\n",
      "├────────────────────┼─────────────┤\n",
      "│ genre(Film-Noir)   │ 0.000671753 │\n",
      "├────────────────────┼─────────────┤\n",
      "│ genre(Horror)      │ 0.0156208   │\n",
      "├────────────────────┼─────────────┤\n",
      "│ genre(Musical)     │ 0.00319835  │\n",
      "├────────────────────┼─────────────┤\n",
      "│ genre(Mystery)     │ 0.00201526  │\n",
      "├────────────────────┼─────────────┤\n",
      "│ genre(Romance)     │ 0.00253662  │\n",
      "├────────────────────┼─────────────┤\n",
      "│ genre(Sci-Fi)      │ 0.00606583  │\n",
      "├────────────────────┼─────────────┤\n",
      "│ genre(Thriller)    │ 0.0109686   │\n",
      "├────────────────────┼─────────────┤\n",
      "│ genre(War)         │ 0.000240628 │\n",
      "├────────────────────┼─────────────┤\n",
      "│ genre(Western)     │ 0.0058252   │\n",
      "├────────────────────┼─────────────┤\n",
      "│ genre(multiple)    │ 0.699165    │\n",
      "├────────────────────┼─────────────┤\n",
      "│ genre(unknown)     │ 0.000100262 │\n",
      "╘════════════════════╧═════════════╛\n",
      "╒═══════════════╤═══════════════════╕\n",
      "│ occupation    │   phi(occupation) │\n",
      "╞═══════════════╪═══════════════════╡\n",
      "│ occupation_0  │            0.0476 │\n",
      "├───────────────┼───────────────────┤\n",
      "│ occupation_1  │            0.0476 │\n",
      "├───────────────┼───────────────────┤\n",
      "│ occupation_2  │            0.0476 │\n",
      "├───────────────┼───────────────────┤\n",
      "│ occupation_3  │            0.0476 │\n",
      "├───────────────┼───────────────────┤\n",
      "│ occupation_4  │            0.0476 │\n",
      "├───────────────┼───────────────────┤\n",
      "│ occupation_5  │            0.0476 │\n",
      "├───────────────┼───────────────────┤\n",
      "│ occupation_6  │            0.0476 │\n",
      "├───────────────┼───────────────────┤\n",
      "│ occupation_7  │            0.0476 │\n",
      "├───────────────┼───────────────────┤\n",
      "│ occupation_8  │            0.0476 │\n",
      "├───────────────┼───────────────────┤\n",
      "│ occupation_9  │            0.0476 │\n",
      "├───────────────┼───────────────────┤\n",
      "│ occupation_10 │            0.0476 │\n",
      "├───────────────┼───────────────────┤\n",
      "│ occupation_11 │            0.0476 │\n",
      "├───────────────┼───────────────────┤\n",
      "│ occupation_12 │            0.0476 │\n",
      "├───────────────┼───────────────────┤\n",
      "│ occupation_13 │            0.0476 │\n",
      "├───────────────┼───────────────────┤\n",
      "│ occupation_14 │            0.0476 │\n",
      "├───────────────┼───────────────────┤\n",
      "│ occupation_15 │            0.0476 │\n",
      "├───────────────┼───────────────────┤\n",
      "│ occupation_16 │            0.0476 │\n",
      "├───────────────┼───────────────────┤\n",
      "│ occupation_17 │            0.0476 │\n",
      "├───────────────┼───────────────────┤\n",
      "│ occupation_18 │            0.0476 │\n",
      "├───────────────┼───────────────────┤\n",
      "│ occupation_19 │            0.0476 │\n",
      "├───────────────┼───────────────────┤\n",
      "│ occupation_20 │            0.0476 │\n",
      "╘═══════════════╧═══════════════════╛\n"
     ]
    },
    {
     "name": "stderr",
     "output_type": "stream",
     "text": [
      "C:\\Users\\Jeevisha\\Anaconda3\\lib\\site-packages\\pgmpy\\factors\\discrete\\DiscreteFactor.py:586: FutureWarning: Using a non-tuple sequence for multidimensional indexing is deprecated; use `arr[tuple(seq)]` instead of `arr[seq]`. In the future this will be interpreted as an array index, `arr[np.array(seq)]`, which will result either in an error or a different result.\n",
      "  phi.values = phi.values[slice_]\n",
      "C:\\Users\\Jeevisha\\Anaconda3\\lib\\site-packages\\pgmpy\\factors\\discrete\\DiscreteFactor.py:598: FutureWarning: Using a non-tuple sequence for multidimensional indexing is deprecated; use `arr[tuple(seq)]` instead of `arr[seq]`. In the future this will be interpreted as an array index, `arr[np.array(seq)]`, which will result either in an error or a different result.\n",
      "  phi1.values = phi1.values[slice_]\n"
     ]
    }
   ],
   "source": [
    "#values = pd.DataFrame(np.random.randint(low=0, high=2, size=(1000, 5)),columns=['A', 'B', 'C', 'D', 'E'])\n",
    "\n",
    "values1 = pd.read_csv('../data/unifiedMLData.csv')\n",
    "values = pd.DataFrame(values1,columns=['movie_title', 'genre', 'age','occupation','rating','gender'])\n",
    "s = values.reset_index().to_json(orient='records')\n",
    "\n",
    "#a = values.to_json()\n",
    "#print a\n",
    "model = BayesianModel([('genre','movie_title'), ('age', 'occupation'),('occupation','rating'),('movie_title','rating')])\n",
    "model.fit(values)\n",
    "\n",
    "print(model.get_cpds('genre'))\n",
    "inference = VariableElimination(model)\n",
    "phi_query = inference.query(['age', 'occupation'])\n",
    "print(phi_query['occupation'])"
   ]
  },
  {
   "cell_type": "code",
   "execution_count": null,
   "metadata": {},
   "outputs": [],
   "source": []
  },
  {
   "cell_type": "code",
   "execution_count": 31,
   "metadata": {},
   "outputs": [
    {
     "name": "stdout",
     "output_type": "stream",
     "text": [
      "[0.07240719479525455, 0.07240719479525455, 0.07240719479525455, 0.07240719479525455, 0.07240719479525455, 0.07240719479525455, 0.07240719479525455, 0.07240719479525455, 0.13111366245694547, 0.07240719479525455, 0.07240719479525455, 0.07240719479525455, 0.07240719479525455]\n"
     ]
    }
   ],
   "source": [
    "myevidence = dict(gender='F')\n",
    "res2 = []\n",
    "\n",
    "for occu in occupations:\n",
    "    myquery = dict(occupation=[occu])\n",
    "    res2 = tcf.condprobve(query = myquery, evidence = myevidence)\n",
    "    #res2 = tcf.specificquery(query=myquery,evidence=myevidence)\n",
    "    res2 = json.dumps(res2.vals)\n",
    "    print(res2)"
   ]
  },
  {
   "cell_type": "markdown",
   "metadata": {},
   "source": [
    "**condprobve** - Eliminate all variables in factorlist except for the ones queried. Adjust all distributions for the evidence given. Return the probability distribution over a set of variables given by the keys of query given evidence."
   ]
  },
  {
   "cell_type": "markdown",
   "metadata": {},
   "source": [
    "**Arguments:**\n",
    "\n",
    "query – A dict containing (key: value) pairs reflecting (variable: value) that represents what outcome to calculate the probability of.\n",
    "\n",
    "evidence – A dict containing (key: value) pairs reflecting (variable: value) that represents what is known about the system."
   ]
  },
  {
   "cell_type": "markdown",
   "metadata": {},
   "source": [
    "**Attributes modified:**\n",
    "factorlist – Modified to be one factor representing the probability distribution of the query variables given the evidence."
   ]
  },
  {
   "cell_type": "code",
   "execution_count": 32,
   "metadata": {},
   "outputs": [],
   "source": [
    "res2=res2.strip(\"[]\").split(',')"
   ]
  },
  {
   "cell_type": "code",
   "execution_count": 33,
   "metadata": {},
   "outputs": [],
   "source": [
    "y=[float(i) for i in res2]"
   ]
  },
  {
   "cell_type": "code",
   "execution_count": 41,
   "metadata": {},
   "outputs": [],
   "source": [
    "mle = y[0]"
   ]
  },
  {
   "cell_type": "code",
   "execution_count": 42,
   "metadata": {},
   "outputs": [
    {
     "data": {
      "text/plain": [
       "0.07240719479525455"
      ]
     },
     "execution_count": 42,
     "metadata": {},
     "output_type": "execute_result"
    }
   ],
   "source": [
    "mle"
   ]
  },
  {
   "cell_type": "code",
   "execution_count": 40,
   "metadata": {},
   "outputs": [
    {
     "name": "stdout",
     "output_type": "stream",
     "text": [
      "mle of occupation given gender is Female\n",
      "0.07240719479525455\n"
     ]
    }
   ],
   "source": [
    "for i in range(1,len(y)-1):\n",
    "    mle = max(y[i-1],y[i])\n",
    "print(\"mle of occupation given gender is Female\")\n",
    "print(mle)"
   ]
  }
 ],
 "metadata": {
  "kernelspec": {
   "display_name": "Python 3",
   "language": "python",
   "name": "python3"
  }
 },
 "nbformat": 4,
 "nbformat_minor": 2
}
